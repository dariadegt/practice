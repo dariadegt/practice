{
 "cells": [
  {
   "cell_type": "markdown",
   "id": "7a64b9f2",
   "metadata": {},
   "source": [
    "___3 Задание. Практикума по программированию___\n",
    "___дегтярева дарья александровна пи22-5___"
   ]
  },
  {
   "cell_type": "markdown",
   "id": "d2416f0f",
   "metadata": {},
   "source": [
    "Базовая часть:.\n",
    "На базе модулей: csv, pickle и прямой работы с файлами реализовать следующий базовый функционал:\n",
    "\n",
    "    функций load_table, save_table по загрузке/сохранению табличных данных во внутреннее представление модуля/из внутреннего представления модуля:\n",
    "\n",
    "    файла формата csv (отдельный модуль с load_table, save_table в рамках общего пакета).\n",
    "    файла формата pickle (отдельный модуль с load_table, save_table в рамках общего пакета), модуль использует структуру данных для представления таблицу, удобную автору работы.\n",
    "    текстового файла (только функция save_table сохраняющая в текстовом файле представление таблицы, аналогичное выводу на печать с помощью функции print_table()).\n",
    "\n",
    "Примечание: внутреннее представление может базироваться на словаре, где по разным ключам хранятся ключевые «атрибуты» таблицы, а значения таблицы хранятся в виде вложенных списков. Студент может выбрать другое внутреннее представление таблицы (согласовав его с преподавателем), в том числе, студенты знакомые с ООП на Python, могут реализовать собственный класс для таблицы. При определении api модулей максимально полно использовать возможности сигнатур функций на Python (значения по умолчанию, запаковка/распаковка, в т.ч. именованных параметров, возвращение множественных значений), интенсивно выполнять проверки и возбуждать исключительные ситуации.\n",
    "\n",
    "    модуля с базовыми операциями над таблицами:\n",
    "\n",
    "    get_rows_by_number(start, [stop], copy_table=False) – получение таблицы из одной строки или из строк из интервала по номеру строки. Функция либо копирует исходные данные, либо создает новое представление таблицы, работающее с исходным набором данных (copy_table=False), таким образом изменения, внесенные через это представления будут наблюдаться и в исходной таблице.\n",
    "    get_rows_by_index(val1, … , copy_table=False) – получение новой таблицы из одной строки или из строк со значениями в первом столбце, совпадающими с переданными аргументами val1, … , valN. Функция либо копирует исходные данные, либо создает новое представление таблицы, работающее с исходным набором данных (copy_table=False), таким образом изменения, внесенные через это представления будут наблюдаться и в исходной таблице.\n",
    "    get_column_types(by_number=True) – получение словаря вида столбец:тип_значений. Тип значения: int, float, bool, str (по умолчанию для всех столбцов). Параметр by_number определяет вид значения столбец – целочисленный индекс столбца или его строковое представление.\n",
    "    set_column_types(types_dict, by_number=True) – задание словаря вида столбец:тип_значений. Тип значения: int, float, bool, str (по умолчанию для всех столбцов). Параметр by_number определяет вид значения столбец – целочисленный индекс столбца или его строковое представление.\n",
    "    get_values(column=0) – получение списка значений (типизированных согласно типу столбца) таблицы из столбца либо по номеру столбца (целое число, значение по умолчанию 0, либо по имени столбца).\n",
    "    get_value(column=0) – аналог get_values(column=0) для представления таблицы с одной строкой, возвращает не список, а одно значение (типизированное согласно типу столбца).\n",
    "    set_values(values, column=0) – задание списка значений values для столбца таблицы (типизированных согласно типу столбца) либо по номеру столбца (целое число, значение по умолчанию 0, либо по имени столбца).\n",
    "    set_value(column=0) – аналог set_values(value, column=0) для представления таблицы с одной строкой, устанавливает не список значений, а одно значение (типизированное согласно типу столбца).\n",
    "    print_table() – вывод таблицы на печать.\n",
    "\n",
    "    Для каждой функции должно быть реализована генерация не менее одного вида исключительных ситуаций.\n"
   ]
  },
  {
   "cell_type": "code",
   "execution_count": 86,
   "id": "d8fd76e5",
   "metadata": {},
   "outputs": [
    {
     "data": {
      "text/plain": [
       "{'heads': ['модель телефона',\n",
       "  'цена',\n",
       "  ' Операционная система',\n",
       "  'Диагональ экрана',\n",
       "  'Встроенная память',\n",
       "  'Емкость аккумулятора '],\n",
       " 'content': [['Смартфон realme C25S',\n",
       "   ' 10 790 ',\n",
       "   'Android',\n",
       "   '6.5',\n",
       "   '64 ГБ 128 ГБ',\n",
       "   '6000 мАч'],\n",
       "  ['Смартфон Xiaomi 12T Pro',\n",
       "   '36 953',\n",
       "   'Android',\n",
       "   '6.67',\n",
       "   '128 ГБ 256 ГБ',\n",
       "   '5000 мАч'],\n",
       "  ['Смартфон Apple iPhone 13 Pro Max',\n",
       "   ' 65 590',\n",
       "   'IOS',\n",
       "   '6.7 ',\n",
       "   '128 ГБ 256 ГБ 512 ГБ 1 ТБ',\n",
       "   '4352 мАч'],\n",
       "  ['Смартфон Samsung Galaxy S22 Ultra',\n",
       "   '58 390',\n",
       "   'Android',\n",
       "   '6.8 ',\n",
       "   '128 ГБ 256 ГБ 512 ГБ 1 ТБ',\n",
       "   '5000 мАч']]}"
      ]
     },
     "execution_count": 86,
     "metadata": {},
     "output_type": "execute_result"
    }
   ],
   "source": [
    "import csv\n",
    "data = {}\n",
    "def load_table(namefile):\n",
    "  with open(namefile,'r',encoding='utf-8-sig') as f:\n",
    "        reader = csv.reader(f)\n",
    "        heads = {'heads': next(reader)}\n",
    "        data.update(heads)\n",
    "        content = {'content': [row for row in reader]}\n",
    "        data.update(content)\n",
    "        \n",
    "  return data\n",
    "load_table('phone.csv')"
   ]
  },
  {
   "cell_type": "code",
   "execution_count": 3,
   "id": "8fd6f5ef",
   "metadata": {},
   "outputs": [],
   "source": [
    "import csv\n",
    "\n",
    "def save_table(namefile):\n",
    "  with open(namefile,'w',encoding='utf-8-sig') as cfl:\n",
    "    writer = csv.DictWriter(cfl, fieldnames=data)\n",
    "    writer.writeheader()\n",
    "    writer.writerow(data)\n",
    "save_table('copy_phone.csv')"
   ]
  },
  {
   "cell_type": "code",
   "execution_count": 5,
   "id": "38737e70",
   "metadata": {},
   "outputs": [
    {
     "name": "stdout",
     "output_type": "stream",
     "text": [
      "heads,content\n",
      "\n",
      "\"['модель телефона', 'цена', ' Операционная система', 'Диагональ экрана', 'Встроенная память', 'Емкость аккумулятора ']\",\"[['Смартфон realme C25S', ' 10 790 ', 'Android', '6.5', '64 ГБ 128 ГБ', '6000 мАч'], ['Смартфон Xiaomi 12T Pro', '36 953', 'Android', '6.67', '128 ГБ 256 ГБ', '5000 мАч'], ['Смартфон Apple iPhone 13 Pro Max', ' 65 590', 'IOS', '6.7 ', '128 ГБ 256 ГБ 512 ГБ 1 ТБ', '4352 мАч'], ['Смартфон Samsung Galaxy S22 Ultra', '58 390', 'Android', '6.8 ', '128 ГБ 256 ГБ 512 ГБ 1 ТБ', '5000 мАч']]\"\n",
      "\n",
      "\n"
     ]
    }
   ],
   "source": [
    "r = open('copy_phone.csv','r',encoding='utf-8-sig')\n",
    "print(r.read())"
   ]
  },
  {
   "cell_type": "code",
   "execution_count": 14,
   "id": "1dfb7bc7",
   "metadata": {
    "scrolled": true
   },
   "outputs": [
    {
     "data": {
      "text/plain": [
       "{'heads': ['модель телефона',\n",
       "  'цена',\n",
       "  ' Операционная система',\n",
       "  'Диагональ экрана',\n",
       "  'Встроенная память',\n",
       "  'Емкость аккумулятора '],\n",
       " 'content': [['Смартфон realme C25S',\n",
       "   ' 10 790 ',\n",
       "   'Android',\n",
       "   '6.5',\n",
       "   '64 ГБ 128 ГБ',\n",
       "   '6000 мАч'],\n",
       "  ['Смартфон Xiaomi 12T Pro',\n",
       "   '36 953',\n",
       "   'Android',\n",
       "   '6.67',\n",
       "   '128 ГБ 256 ГБ',\n",
       "   '5000 мАч'],\n",
       "  ['Смартфон Apple iPhone 13 Pro Max',\n",
       "   ' 65 590',\n",
       "   'IOS',\n",
       "   '6.7 ',\n",
       "   '128 ГБ 256 ГБ 512 ГБ 1 ТБ',\n",
       "   '4352 мАч'],\n",
       "  ['Смартфон Samsung Galaxy S22 Ultra',\n",
       "   '58 390',\n",
       "   'Android',\n",
       "   '6.8 ',\n",
       "   '128 ГБ 256 ГБ 512 ГБ 1 ТБ',\n",
       "   '5000 мАч']]}"
      ]
     },
     "execution_count": 14,
     "metadata": {},
     "output_type": "execute_result"
    }
   ],
   "source": [
    "import pickle \n",
    "def load_table(inf):\n",
    "  with open('phone_pickle.txt', 'rb') as pf:\n",
    "    data_new = pickle.load(pf)\n",
    "  return data_new\n",
    "load_table('phone_pickle.txt')"
   ]
  },
  {
   "cell_type": "code",
   "execution_count": 85,
   "id": "a664b523",
   "metadata": {},
   "outputs": [
    {
     "data": {
      "text/plain": [
       "True"
      ]
     },
     "execution_count": 85,
     "metadata": {},
     "output_type": "execute_result"
    }
   ],
   "source": [
    "import pickle\n",
    "def save_table(info):\n",
    "  with open('phone_pickle.txt', 'wb') as f:\n",
    "    pickle.dump(data,f)\n",
    "  return True\n",
    "save_table(data)"
   ]
  },
  {
   "cell_type": "code",
   "execution_count": 92,
   "id": "334492b9",
   "metadata": {},
   "outputs": [
    {
     "data": {
      "text/plain": [
       "True"
      ]
     },
     "execution_count": 92,
     "metadata": {},
     "output_type": "execute_result"
    }
   ],
   "source": [
    "def save_table(inf):\n",
    "    with open(inf, 'w') as file:\n",
    "        for key, value in data.items():\n",
    "            file.write(f'{key}, {value}\\n')\n",
    "    return True\n",
    "save_table('txt_fl.txt')"
   ]
  },
  {
   "cell_type": "code",
   "execution_count": 95,
   "id": "0dc58224",
   "metadata": {},
   "outputs": [
    {
     "name": "stdout",
     "output_type": "stream",
     "text": [
      "heads, ['модель телефона', 'цена', ' Операционная система', 'Диагональ экрана', 'Встроенная память', 'Емкость аккумулятора ']\n",
      "content, [['Смартфон realme C25S', ' 10 790 ', 'Android', '6.5', '64 ГБ 128 ГБ', '6000 мАч'], ['Смартфон Xiaomi 12T Pro', '36 953', 'Android', '6.67', '128 ГБ 256 ГБ', '5000 мАч'], ['Смартфон Apple iPhone 13 Pro Max', ' 65 590', 'IOS', '6.7 ', '128 ГБ 256 ГБ 512 ГБ 1 ТБ', '4352 мАч'], ['Смартфон Samsung Galaxy S22 Ultra', '58 390', 'Android', '6.8 ', '128 ГБ 256 ГБ 512 ГБ 1 ТБ', '5000 мАч']]\n",
      "\n"
     ]
    }
   ],
   "source": [
    "file = open ('txt_fl.txt')\n",
    "print(file.read())"
   ]
  },
  {
   "cell_type": "code",
   "execution_count": 35,
   "id": "ac8bb3c7",
   "metadata": {
    "scrolled": false
   },
   "outputs": [
    {
     "data": {
      "text/plain": [
       "([['Смартфон Xiaomi 12T Pro,36 953,Android,6.67,128 ГБ 256 ГБ,5000 мАч\\r',\n",
       "   'Смартфон Apple iPhone 13 Pro Max, 65 590,IOS,6.7 ,128 ГБ 256 ГБ 512 ГБ 1 ТБ,4352 мАч\\r',\n",
       "   'Смартфон Samsung Galaxy S22 Ultra,58 390,Android,6.8 ,128 ГБ 256 ГБ 512 ГБ 1 ТБ,5000 мАч']],\n",
       " [['модель телефона',\n",
       "   'цена',\n",
       "   ' Операционная система',\n",
       "   'Диагональ экрана',\n",
       "   'Встроенная память',\n",
       "   'Емкость аккумулятора '],\n",
       "  ['Смартфон realme C25S',\n",
       "   ' 10 790 ',\n",
       "   'Android',\n",
       "   '6.5',\n",
       "   '64 ГБ 128 ГБ',\n",
       "   '6000 мАч'],\n",
       "  ['Смартфон Xiaomi 12T Pro',\n",
       "   '36 953',\n",
       "   'Android',\n",
       "   '6.67',\n",
       "   '128 ГБ 256 ГБ',\n",
       "   '5000 мАч'],\n",
       "  ['Смартфон Apple iPhone 13 Pro Max',\n",
       "   ' 65 590',\n",
       "   'IOS',\n",
       "   '6.7 ',\n",
       "   '128 ГБ 256 ГБ 512 ГБ 1 ТБ',\n",
       "   '4352 мАч'],\n",
       "  ['Смартфон Samsung Galaxy S22 Ultra',\n",
       "   '58 390',\n",
       "   'Android',\n",
       "   '6.8 ',\n",
       "   '128 ГБ 256 ГБ 512 ГБ 1 ТБ',\n",
       "   '5000 мАч']])"
      ]
     },
     "execution_count": 35,
     "metadata": {},
     "output_type": "execute_result"
    }
   ],
   "source": [
    "import csv\n",
    "cont =[]\n",
    "res=[]\n",
    "\n",
    "def get_rows_by_number(file,start, stop, copy_table=False):\n",
    "    try:\n",
    "        with open(file,'r',encoding='utf-8-sig') as f:\n",
    "            reader = csv.reader(f)\n",
    "            headers = next(reader)\n",
    "            cont.append(headers)\n",
    "            for row in reader:\n",
    "                cont.append(row)\n",
    "                \n",
    "    except IOError:\n",
    "        print('This file does not exist')\n",
    "    with open(file, \"r\", newline=\"\",encoding='utf-8-sig') as file:\n",
    "      file = [i.strip('\\n') for i in file]\n",
    "      reader = csv.reader(file)\n",
    "      res.append(file[start:stop])\n",
    "    return res,cont\n",
    "    \n",
    "get_rows_by_number('phone.csv',2, 5)\n"
   ]
  },
  {
   "cell_type": "code",
   "execution_count": 36,
   "id": "f34305f6",
   "metadata": {},
   "outputs": [
    {
     "data": {
      "text/plain": [
       "[['Смартфон Xiaomi 12T Pro',\n",
       "  '36 953',\n",
       "  'Android',\n",
       "  '6.67',\n",
       "  '128 ГБ 256 ГБ',\n",
       "  '5000 мАч']]"
      ]
     },
     "execution_count": 36,
     "metadata": {},
     "output_type": "execute_result"
    }
   ],
   "source": [
    "new1=[]\n",
    "def get_rows_by_index(name, *val):\n",
    "    for row in name:\n",
    "        if row[0] in val:\n",
    "            new1.append(row)\n",
    "    return new1\n",
    "get_rows_by_index(cont,'Смартфон Xiaomi 12T Pro')"
   ]
  },
  {
   "cell_type": "code",
   "execution_count": 37,
   "id": "e4f1c42e",
   "metadata": {},
   "outputs": [
    {
     "data": {
      "text/plain": [
       "{0: str, 1: str, 2: str, 3: str, 4: str, 5: str}"
      ]
     },
     "execution_count": 37,
     "metadata": {},
     "output_type": "execute_result"
    }
   ],
   "source": [
    "types={}\n",
    "def get_column_types(name, by_number = True):\n",
    "    for i in range(len(name[0])):\n",
    "        if by_number:\n",
    "            types[i] = type(name[1][i])\n",
    "        else:\n",
    "            types[table[1][i]] = type(name[1][i])\n",
    "    return types\n",
    "get_column_types(cont)"
   ]
  },
  {
   "cell_type": "code",
   "execution_count": 19,
   "id": "f4aa9547",
   "metadata": {},
   "outputs": [
    {
     "data": {
      "text/plain": [
       "[[('Встроенная память', str)],\n",
       " [('64 ГБ 128 ГБ', str)],\n",
       " [('128 ГБ 256 ГБ', str)],\n",
       " [('128 ГБ 256 ГБ 512 ГБ 1 ТБ', str)],\n",
       " [('128 ГБ 256 ГБ 512 ГБ 1 ТБ', str)]]"
      ]
     },
     "execution_count": 19,
     "metadata": {},
     "output_type": "execute_result"
    }
   ],
   "source": [
    "values1=[]\n",
    "def get_values(name, column = 0):\n",
    "    try:\n",
    "        if type(column) == str:\n",
    "            column = name[0].index(column)\n",
    "        for row in name:\n",
    "            val=[]\n",
    "            val.append(row[column])\n",
    "            val_type=[]\n",
    "            val_type.append(type(row[column]))\n",
    "            zipped_val = zip(val,val_type)\n",
    "            zipped_list = list(zipped_val)\n",
    "            values1.append(zipped_list)\n",
    "        return values1\n",
    "    except IndexError:\n",
    "        print('Выход за границы списка')\n",
    "get_values(cont, column = 4)"
   ]
  },
  {
   "cell_type": "code",
   "execution_count": 97,
   "id": "6f14acaf",
   "metadata": {},
   "outputs": [
    {
     "data": {
      "text/plain": [
       "('модель телефона', ' Операционная система')"
      ]
     },
     "execution_count": 97,
     "metadata": {},
     "output_type": "execute_result"
    }
   ],
   "source": [
    "def get_value(name,column=0):\n",
    "    try:\n",
    "        return name[0][column]\n",
    "    except IndexError:\n",
    "        print('Выход за границы списка')\n",
    "get_value(cont,column=0),get_value(cont,column=2)"
   ]
  },
  {
   "cell_type": "code",
   "execution_count": 32,
   "id": "54e06361",
   "metadata": {},
   "outputs": [
    {
     "data": {
      "text/plain": [
       "[['модель телефона',\n",
       "  'цена',\n",
       "  ' Операционная система',\n",
       "  'Диагональ экрана',\n",
       "  'Встроенная память',\n",
       "  'Емкость аккумулятора '],\n",
       " ['Смартфон realme C25S',\n",
       "  ' 10 790 ',\n",
       "  'Android',\n",
       "  '6.5',\n",
       "  '64 ГБ 128 ГБ',\n",
       "  '6000 мАч'],\n",
       " ['Cяоми', '36 953', 'Android', '6.67', '128 ГБ 256 ГБ', '5000 мАч'],\n",
       " ['Смартфон Apple iPhone 13 Pro Max',\n",
       "  ' 65 590',\n",
       "  'IOS',\n",
       "  '6.7 ',\n",
       "  '128 ГБ 256 ГБ 512 ГБ 1 ТБ',\n",
       "  '4352 мАч'],\n",
       " ['Смартфон Samsung Galaxy S22 Ultra',\n",
       "  '58 390',\n",
       "  'Android',\n",
       "  '6.8 ',\n",
       "  '128 ГБ 256 ГБ 512 ГБ 1 ТБ',\n",
       "  '5000 мАч']]"
      ]
     },
     "execution_count": 32,
     "metadata": {},
     "output_type": "execute_result"
    }
   ],
   "source": [
    "def set_value(name,value,numb,column=0):\n",
    "    try:\n",
    "        name[numb][column] = value\n",
    "        return name\n",
    "    except IndexError:\n",
    "        print('Выход за границы списка')\n",
    "set_value(cont,'Cяоми',2,column=0)"
   ]
  },
  {
   "cell_type": "code",
   "execution_count": 33,
   "id": "5bf9e702",
   "metadata": {},
   "outputs": [
    {
     "data": {
      "text/plain": [
       "[['модель телефона',\n",
       "  'цена',\n",
       "  ' Операционная система',\n",
       "  'Диагональ экрана',\n",
       "  'Встроенная память',\n",
       "  'Емкость аккумулятора '],\n",
       " ['Смартфон realme C25S',\n",
       "  ' 10 790 ',\n",
       "  'Android',\n",
       "  '6.5',\n",
       "  '64 ГБ 128 ГБ',\n",
       "  '6000 мАч'],\n",
       " ['Cяоми', '36 953', 'Android', '6.67', '128 ГБ 256 ГБ', '5000 мАч'],\n",
       " ['Смартфон Apple iPhone 13 Pro Max',\n",
       "  ' 65 590',\n",
       "  'IOS',\n",
       "  '6.7 ',\n",
       "  '128 ГБ 256 ГБ 512 ГБ 1 ТБ',\n",
       "  '4352 мАч'],\n",
       " (['Galaxy A20', '11 000', 'Android'],)]"
      ]
     },
     "execution_count": 33,
     "metadata": {},
     "output_type": "execute_result"
    }
   ],
   "source": [
    "def set_values(name,*value,column=0):\n",
    "    try:\n",
    "        name[column]=value\n",
    "        return name\n",
    "    except IndexError:\n",
    "        print('Выход за границы списка')\n",
    "set_values(cont,['Galaxy A20','11 000','Android'],column=4)"
   ]
  },
  {
   "cell_type": "code",
   "execution_count": 74,
   "id": "9c994ec0",
   "metadata": {},
   "outputs": [
    {
     "name": "stdout",
     "output_type": "stream",
     "text": [
      "['модель телефона', 'цена', ' Операционная система', 'Диагональ экрана', 'Встроенная память', 'Емкость аккумулятора ']\n",
      "['Смартфон realme C25S', ' 10 790 ', 'Android', '6.5', '64 ГБ 128 ГБ', '6000 мАч']\n",
      "['Смартфон Xiaomi 12T Pro', '36 953', 'Android', '6.67', '128 ГБ 256 ГБ', '5000 мАч']\n",
      "['Смартфон Apple iPhone 13 Pro Max', ' 65 590', 'IOS', '6.7 ', '128 ГБ 256 ГБ 512 ГБ 1 ТБ', '4352 мАч']\n",
      "['Смартфон Samsung Galaxy S22 Ultra', '58 390', 'Android', '6.8 ', '128 ГБ 256 ГБ 512 ГБ 1 ТБ', '5000 мАч']\n"
     ]
    }
   ],
   "source": [
    "def print_table(name):\n",
    "    new_table = name\n",
    "    for row in new_table:\n",
    "        print(row)\n",
    "print_table(cont)"
   ]
  },
  {
   "cell_type": "code",
   "execution_count": 81,
   "id": "b37c2369",
   "metadata": {},
   "outputs": [
    {
     "name": "stdout",
     "output_type": "stream",
     "text": [
      "--------------------  --------------------  -----------------------  --------------------------------  ---------------------------------\n",
      "модель телефона       Смартфон realme C25S  Смартфон Xiaomi 12T Pro  Смартфон Apple iPhone 13 Pro Max  Смартфон Samsung Galaxy S22 Ultra\n",
      "цена                  10 790                36 953                   65 590                            58 390\n",
      "Операционная система  Android               Android                  IOS                               Android\n",
      "Диагональ экрана      6.5                   6.67                     6.7                               6.8\n",
      "Встроенная память     64 ГБ 128 ГБ          128 ГБ 256 ГБ            128 ГБ 256 ГБ 512 ГБ 1 ТБ         128 ГБ 256 ГБ 512 ГБ 1 ТБ\n",
      "Емкость аккумулятора  6000 мАч              5000 мАч                 4352 мАч                          5000 мАч\n",
      "--------------------  --------------------  -----------------------  --------------------------------  ---------------------------------\n"
     ]
    }
   ],
   "source": [
    "from tabulate import tabulate \n",
    "def print_table(name):\n",
    "    print(tabulate(list(zip(*name))))\n",
    "print_table(cont)\n"
   ]
  }
 ],
 "metadata": {
  "kernelspec": {
   "display_name": "Python 3 (ipykernel)",
   "language": "python",
   "name": "python3"
  },
  "language_info": {
   "codemirror_mode": {
    "name": "ipython",
    "version": 3
   },
   "file_extension": ".py",
   "mimetype": "text/x-python",
   "name": "python",
   "nbconvert_exporter": "python",
   "pygments_lexer": "ipython3",
   "version": "3.10.6"
  }
 },
 "nbformat": 4,
 "nbformat_minor": 5
}
